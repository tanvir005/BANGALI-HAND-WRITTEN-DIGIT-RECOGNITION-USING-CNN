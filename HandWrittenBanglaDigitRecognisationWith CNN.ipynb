{
 "cells": [
  {
   "cell_type": "code",
   "execution_count": 3,
   "metadata": {},
   "outputs": [],
   "source": [
    "from keras.models import Sequential\n",
    "from keras.layers import Conv2D, MaxPooling2D, Flatten, Dense, Dropout"
   ]
  },
  {
   "cell_type": "code",
   "execution_count": 4,
   "metadata": {},
   "outputs": [],
   "source": [
    "classifier = Sequential()\n",
    "\n",
    "classifier.add(Conv2D(filters = 128, kernel_size = (3, 3), activation = 'relu', input_shape = (40, 40, 3)))\n",
    "classifier.add(MaxPooling2D(pool_size = (2, 2)))\n",
    "classifier.add(Dropout(.2))\n",
    "\n",
    "classifier.add(Conv2D(filters = 64, kernel_size = (3, 3), activation = 'relu'))\n",
    "classifier.add(MaxPooling2D(pool_size = (2, 2)))\n",
    "classifier.add(Dropout(.2))\n",
    "\n",
    "classifier.add(Flatten())\n",
    "\n",
    "classifier.add(Dense(units = 128, activation = 'relu'))\n",
    "classifier.add(Dropout(.2))\n",
    "\n",
    "classifier.add(Dense(units = 10, activation = 'softmax'))\n",
    "\n",
    "classifier.compile(optimizer = 'adam', loss = 'categorical_crossentropy', metrics = ['accuracy'])"
   ]
  },
  {
   "cell_type": "code",
   "execution_count": null,
   "metadata": {},
   "outputs": [],
   "source": [
    "\n",
    "\n"
   ]
  },
  {
   "cell_type": "code",
   "execution_count": 5,
   "metadata": {},
   "outputs": [],
   "source": [
    "from keras.preprocessing.image import ImageDataGenerator\n",
    "from PIL import ImageFile"
   ]
  },
  {
   "cell_type": "code",
   "execution_count": 6,
   "metadata": {},
   "outputs": [
    {
     "name": "stdout",
     "output_type": "stream",
     "text": [
      "Found 3487 images belonging to 10 classes.\n",
      "Found 3486 images belonging to 10 classes.\n"
     ]
    }
   ],
   "source": [
    "ImageFile.LOAD_TRUNCATED_IMAGES = True\n",
    "\n",
    "train_datagen = ImageDataGenerator(rescale = 1./255, shear_range = .2, rotation_range = 25)\n",
    "test_datagen = ImageDataGenerator(rescale = 1./255)\n",
    "\n",
    "training_set = train_datagen.flow_from_directory('data/train', target_size = (40, 40), \n",
    "                                                 batch_size = 32, class_mode = 'categorical')\n",
    "test_set = test_datagen.flow_from_directory('data/test', target_size = (40, 40), \n",
    "                                                 batch_size = 32, class_mode = 'categorical')"
   ]
  },
  {
   "cell_type": "code",
   "execution_count": null,
   "metadata": {},
   "outputs": [
    {
     "name": "stdout",
     "output_type": "stream",
     "text": [
      "Epoch 1/10\n",
      "3486/3487 [============================>.] - ETA: 0s - loss: 1.1823 - accuracy: 0.5589"
     ]
    },
    {
     "name": "stderr",
     "output_type": "stream",
     "text": [
      "C:\\Users\\Tanvir\\anaconda3\\envs\\Hwdre\\lib\\site-packages\\keras\\utils\\data_utils.py:616: UserWarning: The input 105 could not be retrieved. It could be because a worker has died.\n",
      "  UserWarning)\n"
     ]
    },
    {
     "name": "stdout",
     "output_type": "stream",
     "text": [
      "3487/3487 [==============================] - 1728s 496ms/step - loss: 1.1820 - accuracy: 0.5589 - val_loss: 0.1273 - val_accuracy: 0.9817\n",
      "Epoch 2/10\n",
      "3487/3487 [==============================] - 1255s 360ms/step - loss: 0.1964 - accuracy: 0.9347 - val_loss: 0.1397 - val_accuracy: 0.9931\n",
      "Epoch 3/10\n",
      "3487/3487 [==============================] - 1504s 431ms/step - loss: 0.1233 - accuracy: 0.9587 - val_loss: 9.3708e-04 - val_accuracy: 0.9991\n",
      "Epoch 4/10\n",
      "3487/3487 [==============================] - 1152s 330ms/step - loss: 0.0910 - accuracy: 0.9692 - val_loss: 1.5672e-05 - val_accuracy: 0.9991\n",
      "Epoch 5/10\n",
      "3487/3487 [==============================] - 2642s 758ms/step - loss: 0.0784 - accuracy: 0.9739 - val_loss: 0.0015 - val_accuracy: 0.9994\n",
      "Epoch 6/10\n",
      "3487/3487 [==============================] - 2438s 699ms/step - loss: 0.0634 - accuracy: 0.9787 - val_loss: 1.4740e-04 - val_accuracy: 1.0000\n",
      "Epoch 7/10\n",
      "3487/3487 [==============================] - 2224s 638ms/step - loss: 0.0604 - accuracy: 0.9799 - val_loss: 5.5426e-04 - val_accuracy: 1.0000\n",
      "Epoch 8/10\n",
      "3487/3487 [==============================] - 1544s 443ms/step - loss: 0.0543 - accuracy: 0.9817 - val_loss: 2.3808e-05 - val_accuracy: 1.0000\n",
      "Epoch 9/10\n",
      "3487/3487 [==============================] - 1011s 290ms/step - loss: 0.0503 - accuracy: 0.9832 - val_loss: 3.6436e-04 - val_accuracy: 1.0000\n",
      "Epoch 10/10\n",
      "2684/3487 [======================>.......] - ETA: 3:21 - loss: 0.0461 - accuracy: 0.9841"
     ]
    }
   ],
   "source": [
    "classifier.fit_generator(training_set, steps_per_epoch = 3487, epochs = 10,\n",
    "                        validation_data = test_set, validation_steps = 3486)"
   ]
  },
  {
   "cell_type": "code",
   "execution_count": null,
   "metadata": {},
   "outputs": [],
   "source": []
  },
  {
   "cell_type": "code",
   "execution_count": null,
   "metadata": {},
   "outputs": [],
   "source": [
    "#Saving the model\n",
    "classifier_json = classifier.to_json()\n",
    "\n",
    "with open(\"HandWrittenBanglaDigitRecognisationWith CNN.json\", \"w\") as json_file:\n",
    "    json_file.write(classifier_json)\n",
    "    \n",
    "classifier.save_weights(\"HandWrittenBanglaDigitRecognisationWith CNN.h5\")\n",
    "print('Saved model to disk')"
   ]
  },
  {
   "cell_type": "code",
   "execution_count": null,
   "metadata": {},
   "outputs": [],
   "source": []
  },
  {
   "cell_type": "code",
   "execution_count": null,
   "metadata": {},
   "outputs": [],
   "source": [
    "import PIL\n",
    "from PIL import ImageTk, ImageDraw, Image\n",
    "from tkinter import *\n",
    "from keras.preprocessing import image\n",
    "import os"
   ]
  },
  {
   "cell_type": "code",
   "execution_count": null,
   "metadata": {},
   "outputs": [],
   "source": [
    "def create_new_image():\n",
    "    width = 256\n",
    "    height = 256\n",
    "    center = height // 2\n",
    "    white = (255, 255, 255)\n",
    "    green = (0, 128, 0)\n",
    "    \n",
    "    def save():\n",
    "        filename = 'C:/Users/Tanvir/Desktop/New folder/Final Project/Dataset/SinglePrediction/image.jpg'\n",
    "        image.save(filename)\n",
    "        \n",
    "    def paint(event):\n",
    "        x1, y1 = (event.x - 1), (event.y - 1)\n",
    "        x2, y2 = (event.x + 1), (event.y + 1)\n",
    "        cv.create_oval(x1, y1, x2, y2, fill = 'black', width = 15)\n",
    "        draw.line([x1, y1, x2, y2], fill = 'black', width = 15)\n",
    "        \n",
    "    root = Tk()\n",
    "    \n",
    "    cv = Canvas(root, width = width, height = height, bg = 'white')\n",
    "    cv.pack()\n",
    "    \n",
    "    image = PIL.Image.new('RGB', (width, height), white)\n",
    "    draw = ImageDraw.Draw(image)\n",
    "    \n",
    "    cv.pack(expand = YES, fill = BOTH)\n",
    "    cv.bind(\"<B1-Motion>\", paint)\n",
    "    \n",
    "    button = Button(text = 'Save', command = save)\n",
    "    button.pack()\n",
    "    \n",
    "    root.mainloop()\n",
    "    "
   ]
  },
  {
   "cell_type": "code",
   "execution_count": null,
   "metadata": {},
   "outputs": [],
   "source": [
    "\n",
    "def determine_character(res):\n",
    "    list = ['০','১','২','৩','৪','৫','৬','৭','৮','৯'] \n",
    "    print(res)\n",
    "    for i in range(len(list)):\n",
    "        if i == res:\n",
    "            #print('prediction :')\n",
    "            print(list[i])\n",
    "            val=list[i]\n",
    "   \n",
    "    return val\n",
    "   "
   ]
  },
  {
   "cell_type": "code",
   "execution_count": null,
   "metadata": {},
   "outputs": [],
   "source": [
    "import numpy as np\n",
    "\n",
    "def single_prediction(test_img):\n",
    "    test_img_arr = image.img_to_array(test_img)\n",
    "    test_img_arr = np.expand_dims(test_img_arr, axis = 0)\n",
    "    prediction = classifier.predict(test_img_arr)\n",
    "    result = np.argmax(prediction, axis = 1)\n",
    "    determine_character(result)"
   ]
  },
  {
   "cell_type": "code",
   "execution_count": null,
   "metadata": {},
   "outputs": [],
   "source": [
    "def delete_created_image():\n",
    "    os.remove('C:/Users/Tanvir/Desktop/New folder/Final Project/Dataset/SinglePrediction/image.jpg')"
   ]
  },
  {
   "cell_type": "code",
   "execution_count": null,
   "metadata": {},
   "outputs": [],
   "source": [
    "import matplotlib.pyplot as plt\n",
    "\n",
    "def predict_the_character():\n",
    "    create_new_image()\n",
    "    test_img = image.load_img('C:/Users/Tanvir/Desktop/New folder/Final Project/Dataset/SinglePrediction/image.jpg', target_size = (40, 40, 3))\n",
    "    single_prediction(test_img)\n",
    "    plt.imshow(test_img)\n",
    "    delete_created_image()"
   ]
  },
  {
   "cell_type": "code",
   "execution_count": 2,
   "metadata": {},
   "outputs": [
    {
     "ename": "NameError",
     "evalue": "name 'draw_n_guess_the_character' is not defined",
     "output_type": "error",
     "traceback": [
      "\u001b[1;31m---------------------------------------------------------------------------\u001b[0m",
      "\u001b[1;31mNameError\u001b[0m                                 Traceback (most recent call last)",
      "\u001b[1;32m<ipython-input-2-c4fd5c7114d4>\u001b[0m in \u001b[0;36m<module>\u001b[1;34m\u001b[0m\n\u001b[1;32m----> 1\u001b[1;33m \u001b[0mdraw_n_guess_the_character\u001b[0m\u001b[1;33m(\u001b[0m\u001b[1;33m)\u001b[0m\u001b[1;33m\u001b[0m\u001b[1;33m\u001b[0m\u001b[0m\n\u001b[0m",
      "\u001b[1;31mNameError\u001b[0m: name 'draw_n_guess_the_character' is not defined"
     ]
    }
   ],
   "source": [
    "predict_the_character()"
   ]
  },
  {
   "cell_type": "code",
   "execution_count": null,
   "metadata": {},
   "outputs": [],
   "source": []
  },
  {
   "cell_type": "code",
   "execution_count": null,
   "metadata": {},
   "outputs": [],
   "source": []
  },
  {
   "cell_type": "code",
   "execution_count": null,
   "metadata": {},
   "outputs": [],
   "source": []
  },
  {
   "cell_type": "code",
   "execution_count": null,
   "metadata": {},
   "outputs": [],
   "source": []
  },
  {
   "cell_type": "code",
   "execution_count": null,
   "metadata": {},
   "outputs": [],
   "source": [
    "from tkinter import *\n",
    "from tkinter.ttk import *\n",
    "import PIL.ImageGrab\n",
    "from PIL import Image\n",
    "from keras.models import load_model\n",
    "import numpy as np\n",
    "from keras.models import model_from_json\n",
    "import json\n",
    "from tkinter import filedialog\n",
    "\n",
    "\n",
    "\n",
    "import numpy as np\n",
    "\n",
    "\n",
    "def determine_character(res):\n",
    "    #list = [ 'অ','আ','ই','ঈ','উ','ঊ','ঋ','এ','ঐ','ও','ঔ','ক','খ','গ','ঘ','ঙ','চ','ছ','জ','ঝ','ঞ','ট','ঠ','ড','ঢ','ণ','ত','থ','দ','ধ','ন','প','ফ','ব','ভ','ম','য','র','ল','ব','শ','ষ','স','হ','ড়','ঢ়','য়','ৎ','ং','ঃ',' ঁ']\n",
    "    list = ['০','১','২','৩','৪','৫','৬','৭','৮','৯']\n",
    "    print(res)\n",
    "    for i in range(len(list)):\n",
    "        if i == res:\n",
    "            #print('prediction :')\n",
    "            print(list[i])\n",
    "            val=list[i]\n",
    "   \n",
    "    return val\n",
    "\n",
    "def single_prediction(test_img):\n",
    "    test_img_arr = image.img_to_array(test_img)\n",
    "    test_img_arr = np.expand_dims(test_img_arr, axis = 0)\n",
    "    prediction = classifier.predict(test_img_arr)\n",
    "    result = np.argmax(prediction, axis = 1)\n",
    "    val = determine_character(result)\n",
    "    \n",
    "    return  val\n",
    "    \n",
    "    \n",
    "    \n",
    "import matplotlib.pyplot as plt\n",
    "\n",
    "\n",
    "    \n",
    "\n",
    "\n",
    "# create global variables\n",
    "operator = \"\"\n",
    "operator2 = \"\"\n",
    "\n",
    "\n",
    "# create function to clear canvas and text\n",
    "def Clear():\n",
    "    cv.delete(\"all\")\n",
    "    global operator2\n",
    "    text_input.set(operator2)\n",
    "\n",
    "\n",
    "# create function to predict and display predicted number\n",
    "def Predict():\n",
    "    file = 'image.jpg'\n",
    "    if file:\n",
    "        # save the canvas in jpg format\n",
    "        x = root.winfo_rootx() + cv.winfo_x()\n",
    "        y = root.winfo_rooty() + cv.winfo_y()\n",
    "        x1 = x + cv.winfo_width()\n",
    "        y1 = y + cv.winfo_height()\n",
    "        PIL.ImageGrab.grab().crop((x, y, x1, y1)).save('C:/Users/Tanvir/Desktop/New folder/Final Project/Dataset/SinglePrediction/image.jpg')\n",
    "        \n",
    "        \n",
    "       \n",
    "            \n",
    "            \n",
    "      \n",
    "        test_img = image.load_img('C:/Users/Tanvir/Desktop/New folder/Final Project/Dataset/SinglePrediction/image.jpg', target_size = (40, 40, 3))\n",
    "    \n",
    "        x = single_prediction(test_img)\n",
    "        plt.imshow(test_img)\n",
    "            \n",
    "\n",
    "\n",
    "\n",
    "        \n",
    "\n",
    "        # display predicted number\n",
    "        global operator\n",
    "        operator = operator + str(x)\n",
    "        text_input.set(operator)\n",
    "        operator = operator = \"\"\n",
    "\n",
    "\n",
    "# create function to draw on canvas\n",
    "def paint(event):\n",
    "    old_x = event.x\n",
    "    old_y = event.y\n",
    "\n",
    "    cv.create_line(old_x, old_y, event.x, event.y, width=20, fill=\"white\", capstyle=ROUND, smooth=TRUE, splinesteps=36)\n",
    "\n",
    "\n",
    "# all interface elements must be between Tk() and mainloop()\n",
    "root = Tk()\n",
    "\n",
    "# create string variable\n",
    "text_input = StringVar()\n",
    "\n",
    "# create field to display text\n",
    "textdisplay = Entry(root, textvariable=text_input, justify='center')\n",
    "\n",
    "# create predict and clear buttons\n",
    "btn1 = Button(root, text=\"Predict\", command= lambda: Predict())\n",
    "btn2 = Button(root, text=\"Clear\", command=lambda: Clear())\n",
    "\n",
    "# create canvas to draw on\n",
    "cv = Canvas(root, width=300, height=300, bg=\"black\", )\n",
    "\n",
    "# using left mouse button to draw\n",
    "cv.bind('<B1-Motion>', paint)\n",
    "\n",
    "# organise the elements\n",
    "cv.grid(row=0, column=0)\n",
    "textdisplay.grid(row=0, column=1)\n",
    "btn1.grid(row=1, column=0)\n",
    "btn2.grid(row=1, column=1)\n",
    "\n",
    "# this 2 lines for expand the interface\n",
    "root.rowconfigure(0, weight=2)\n",
    "root.columnconfigure(1, weight=2)\n",
    "root.title('cnn digit detection')\n",
    "\n",
    "root.mainloop()\n",
    "\n"
   ]
  },
  {
   "cell_type": "code",
   "execution_count": null,
   "metadata": {},
   "outputs": [],
   "source": []
  }
 ],
 "metadata": {
  "kernelspec": {
   "display_name": "Python 3",
   "language": "python",
   "name": "python3"
  },
  "language_info": {
   "codemirror_mode": {
    "name": "ipython",
    "version": 3
   },
   "file_extension": ".py",
   "mimetype": "text/x-python",
   "name": "python",
   "nbconvert_exporter": "python",
   "pygments_lexer": "ipython3",
   "version": "3.7.7"
  }
 },
 "nbformat": 4,
 "nbformat_minor": 4
}
